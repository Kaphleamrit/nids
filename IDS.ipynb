{
 "cells": [
  {
   "cell_type": "markdown",
   "metadata": {},
   "source": [
    "### import packages"
   ]
  },
  {
   "cell_type": "code",
   "execution_count": 8,
   "metadata": {},
   "outputs": [],
   "source": [
    "import pandas as pd\n",
    "from sklearn.preprocessing import LabelEncoder, StandardScaler, OneHotEncoder\n",
    "from sklearn.compose import ColumnTransformer\n",
    "from sklearn.pipeline import Pipeline\n",
    "from tensorflow.keras.models import Sequential\n",
    "from tensorflow.keras.layers import Dense, Dropout\n"
   ]
  },
  {
   "cell_type": "markdown",
   "metadata": {},
   "source": [
    "### load the dataset"
   ]
  },
  {
   "cell_type": "code",
   "execution_count": 3,
   "metadata": {},
   "outputs": [],
   "source": [
    "\n",
    "# List of column names based on the provided dataset documentation\n",
    "column_names = [\n",
    "    'duration', 'protocol_type', 'service', 'flag', 'src_bytes', 'dst_bytes', 'land',\n",
    "    'wrong_fragment', 'urgent', 'hot', 'num_failed_logins', 'logged_in', 'num_compromised',\n",
    "    'root_shell', 'su_attempted', 'num_root', 'num_file_creations', 'num_shells',\n",
    "    'num_access_files', 'num_outbound_cmds', 'is_host_login', 'is_guest_login', 'count',\n",
    "    'srv_count', 'serror_rate', 'srv_serror_rate', 'rerror_rate', 'srv_rerror_rate',\n",
    "    'same_srv_rate', 'diff_srv_rate', 'srv_diff_host_rate', 'dst_host_count',\n",
    "    'dst_host_srv_count', 'dst_host_same_srv_rate', 'dst_host_diff_srv_rate',\n",
    "    'dst_host_same_src_port_rate', 'dst_host_srv_diff_host_rate', 'dst_host_serror_rate',\n",
    "    'dst_host_srv_serror_rate', 'dst_host_rerror_rate', 'dst_host_srv_rerror_rate', 'label'\n",
    "]\n",
    "\n",
    "# Load the dataset\n",
    "kdd_data_10_percent = pd.read_csv('kddcup.data_10_percent_corrected', header=None, names=column_names)\n",
    "\n",
    "# Display the first few rows of the DataFrame to verify\n",
    "kdd_data_10_percent.head()\n",
    "\n"
   ]
  },
  {
   "cell_type": "markdown",
   "metadata": {},
   "source": [
    "### Separate features and label\n"
   ]
  },
  {
   "cell_type": "code",
   "execution_count": 9,
   "metadata": {},
   "outputs": [],
   "source": [
    "X = kdd_data_10_percent.drop('label', axis=1)\n",
    "y = kdd_data_10_percent['label']"
   ]
  },
  {
   "cell_type": "markdown",
   "metadata": {},
   "source": [
    "### Convert String Labels to Numeric Values"
   ]
  },
  {
   "cell_type": "code",
   "execution_count": 10,
   "metadata": {},
   "outputs": [
    {
     "name": "stdout",
     "output_type": "stream",
     "text": [
      "Unique classes in the target variable: ['back.' 'buffer_overflow.' 'ftp_write.' 'guess_passwd.' 'imap.'\n",
      " 'ipsweep.' 'land.' 'loadmodule.' 'multihop.' 'neptune.' 'nmap.' 'normal.'\n",
      " 'perl.' 'phf.' 'pod.' 'portsweep.' 'rootkit.' 'satan.' 'smurf.' 'spy.'\n",
      " 'teardrop.' 'warezclient.' 'warezmaster.']\n"
     ]
    }
   ],
   "source": [
    "# Convert string labels to numeric values\n",
    "label_encoder = LabelEncoder()\n",
    "y = label_encoder.fit_transform(y)\n",
    "\n",
    "# Check the unique classes to ensure binary classification\n",
    "print(f\"Unique classes in the target variable: {label_encoder.classes_}\")\n"
   ]
  },
  {
   "cell_type": "markdown",
   "metadata": {},
   "source": [
    "### Identify Symbolic and Continuous Features"
   ]
  },
  {
   "cell_type": "code",
   "execution_count": 11,
   "metadata": {},
   "outputs": [],
   "source": [
    "# Identify symbolic (categorical) and continuous features\n",
    "symbolic_features = ['protocol_type', 'service', 'flag', 'land', 'logged_in', 'is_host_login', 'is_guest_login']\n",
    "continuous_features = [col for col in column_names if col not in symbolic_features + ['label']]"
   ]
  },
  {
   "cell_type": "markdown",
   "metadata": {},
   "source": [
    "### Preprocess the Data"
   ]
  },
  {
   "cell_type": "code",
   "execution_count": 12,
   "metadata": {},
   "outputs": [],
   "source": [
    "# Preprocess the data\n",
    "preprocessor = ColumnTransformer(\n",
    "    transformers=[\n",
    "        ('num', StandardScaler(), continuous_features),\n",
    "        ('cat', OneHotEncoder(), symbolic_features)\n",
    "    ])\n",
    "\n",
    "# Fit and transform the features\n",
    "X_processed = preprocessor.fit_transform(X)\n"
   ]
  },
  {
   "cell_type": "markdown",
   "metadata": {},
   "source": [
    "### Define the Model"
   ]
  },
  {
   "cell_type": "code",
   "execution_count": 13,
   "metadata": {},
   "outputs": [
    {
     "name": "stderr",
     "output_type": "stream",
     "text": [
      "c:\\Python312\\Lib\\site-packages\\keras\\src\\layers\\core\\dense.py:87: UserWarning: Do not pass an `input_shape`/`input_dim` argument to a layer. When using Sequential models, prefer using an `Input(shape)` object as the first layer in the model instead.\n",
      "  super().__init__(activity_regularizer=activity_regularizer, **kwargs)\n"
     ]
    }
   ],
   "source": [
    "# Define the model\n",
    "model = Sequential()\n",
    "model.add(Dense(64, input_dim=X_processed.shape[1], activation='relu'))\n",
    "model.add(Dropout(0.5))\n",
    "model.add(Dense(32, activation='relu'))\n",
    "model.add(Dense(1, activation='sigmoid'))\n",
    "\n",
    "# Compile the model\n",
    "model.compile(loss='binary_crossentropy', optimizer='adam', metrics=['accuracy'])\n"
   ]
  },
  {
   "cell_type": "markdown",
   "metadata": {},
   "source": [
    "### Train the Model"
   ]
  },
  {
   "cell_type": "code",
   "execution_count": 14,
   "metadata": {},
   "outputs": [
    {
     "name": "stdout",
     "output_type": "stream",
     "text": [
      "Epoch 1/10\n",
      "\u001b[1m12351/12351\u001b[0m \u001b[32m━━━━━━━━━━━━━━━━━━━━\u001b[0m\u001b[37m\u001b[0m \u001b[1m30s\u001b[0m 2ms/step - accuracy: 6.6477e-05 - loss: -77438512.0000 - val_accuracy: 1.3157e-04 - val_loss: -923578304.0000\n",
      "Epoch 2/10\n",
      "\u001b[1m12351/12351\u001b[0m \u001b[32m━━━━━━━━━━━━━━━━━━━━\u001b[0m\u001b[37m\u001b[0m \u001b[1m26s\u001b[0m 2ms/step - accuracy: 2.9880e-05 - loss: -1783518336.0000 - val_accuracy: 1.3157e-04 - val_loss: -5544832000.0000\n",
      "Epoch 3/10\n",
      "\u001b[1m12351/12351\u001b[0m \u001b[32m━━━━━━━━━━━━━━━━━━━━\u001b[0m\u001b[37m\u001b[0m \u001b[1m41s\u001b[0m 3ms/step - accuracy: 4.3839e-05 - loss: -7920915968.0000 - val_accuracy: 1.3157e-04 - val_loss: -16398288896.0000\n",
      "Epoch 4/10\n",
      "\u001b[1m12351/12351\u001b[0m \u001b[32m━━━━━━━━━━━━━━━━━━━━\u001b[0m\u001b[37m\u001b[0m \u001b[1m35s\u001b[0m 3ms/step - accuracy: 3.3294e-05 - loss: -21113147392.0000 - val_accuracy: 1.3157e-04 - val_loss: -35922952192.0000\n",
      "Epoch 5/10\n",
      "\u001b[1m12351/12351\u001b[0m \u001b[32m━━━━━━━━━━━━━━━━━━━━\u001b[0m\u001b[37m\u001b[0m \u001b[1m39s\u001b[0m 3ms/step - accuracy: 5.2738e-05 - loss: -43752718336.0000 - val_accuracy: 1.3157e-04 - val_loss: -66718179328.0000\n",
      "Epoch 6/10\n",
      "\u001b[1m12351/12351\u001b[0m \u001b[32m━━━━━━━━━━━━━━━━━━━━\u001b[0m\u001b[37m\u001b[0m \u001b[1m22s\u001b[0m 2ms/step - accuracy: 4.6467e-05 - loss: -78666964992.0000 - val_accuracy: 1.3157e-04 - val_loss: -111330402304.0000\n",
      "Epoch 7/10\n",
      "\u001b[1m12351/12351\u001b[0m \u001b[32m━━━━━━━━━━━━━━━━━━━━\u001b[0m\u001b[37m\u001b[0m \u001b[1m17s\u001b[0m 1ms/step - accuracy: 4.6478e-05 - loss: -128265125888.0000 - val_accuracy: 1.3157e-04 - val_loss: -172307988480.0000\n",
      "Epoch 8/10\n",
      "\u001b[1m12351/12351\u001b[0m \u001b[32m━━━━━━━━━━━━━━━━━━━━\u001b[0m\u001b[37m\u001b[0m \u001b[1m17s\u001b[0m 1ms/step - accuracy: 3.6742e-05 - loss: -195045261312.0000 - val_accuracy: 1.3157e-04 - val_loss: -252099133440.0000\n",
      "Epoch 9/10\n",
      "\u001b[1m12351/12351\u001b[0m \u001b[32m━━━━━━━━━━━━━━━━━━━━\u001b[0m\u001b[37m\u001b[0m \u001b[1m18s\u001b[0m 1ms/step - accuracy: 4.0321e-05 - loss: -282164789248.0000 - val_accuracy: 1.3157e-04 - val_loss: -353233043456.0000\n",
      "Epoch 10/10\n",
      "\u001b[1m12351/12351\u001b[0m \u001b[32m━━━━━━━━━━━━━━━━━━━━\u001b[0m\u001b[37m\u001b[0m \u001b[1m16s\u001b[0m 1ms/step - accuracy: 3.5139e-05 - loss: -391294222336.0000 - val_accuracy: 1.3157e-04 - val_loss: -478172413952.0000\n"
     ]
    }
   ],
   "source": [
    "history = model.fit(X_processed, y, epochs=10, batch_size=32, validation_split=0.2)"
   ]
  },
  {
   "cell_type": "markdown",
   "metadata": {},
   "source": [
    "###  Display Training History"
   ]
  },
  {
   "cell_type": "code",
   "execution_count": 15,
   "metadata": {},
   "outputs": [
    {
     "data": {
      "text/plain": [
       "{'accuracy': [4.301445369492285e-05,\n",
       "  4.301445369492285e-05,\n",
       "  4.301445369492285e-05,\n",
       "  4.301445369492285e-05,\n",
       "  4.301445369492285e-05,\n",
       "  4.301445369492285e-05,\n",
       "  4.301445369492285e-05,\n",
       "  4.301445369492285e-05,\n",
       "  4.301445369492285e-05,\n",
       "  4.301445369492285e-05],\n",
       " 'loss': [-270297696.0,\n",
       "  -2882086144.0,\n",
       "  -10598487040.0,\n",
       "  -25925492736.0,\n",
       "  -51440930816.0,\n",
       "  -89805242368.0,\n",
       "  -143659057152.0,\n",
       "  -215347462144.0,\n",
       "  -307805585408.0,\n",
       "  -423062306816.0],\n",
       " 'val_accuracy': [0.00013157229113858193,\n",
       "  0.00013157229113858193,\n",
       "  0.00013157229113858193,\n",
       "  0.00013157229113858193,\n",
       "  0.00013157229113858193,\n",
       "  0.00013157229113858193,\n",
       "  0.00013157229113858193,\n",
       "  0.00013157229113858193,\n",
       "  0.00013157229113858193,\n",
       "  0.00013157229113858193],\n",
       " 'val_loss': [-923578304.0,\n",
       "  -5544832000.0,\n",
       "  -16398288896.0,\n",
       "  -35922952192.0,\n",
       "  -66718179328.0,\n",
       "  -111330402304.0,\n",
       "  -172307988480.0,\n",
       "  -252099133440.0,\n",
       "  -353233043456.0,\n",
       "  -478172413952.0]}"
      ]
     },
     "execution_count": 15,
     "metadata": {},
     "output_type": "execute_result"
    }
   ],
   "source": [
    "history.history "
   ]
  },
  {
   "cell_type": "markdown",
   "metadata": {},
   "source": [
    "### serialize model"
   ]
  },
  {
   "cell_type": "code",
   "execution_count": 16,
   "metadata": {},
   "outputs": [
    {
     "name": "stderr",
     "output_type": "stream",
     "text": [
      "WARNING:absl:You are saving your model as an HDF5 file via `model.save()` or `keras.saving.save_model(model)`. This file format is considered legacy. We recommend using instead the native Keras format, e.g. `model.save('my_model.keras')` or `keras.saving.save_model(model, 'my_model.keras')`. \n"
     ]
    }
   ],
   "source": [
    "model.save('nids_model.h5')"
   ]
  }
 ],
 "metadata": {
  "kernelspec": {
   "display_name": "base",
   "language": "python",
   "name": "python3"
  },
  "language_info": {
   "codemirror_mode": {
    "name": "ipython",
    "version": 3
   },
   "file_extension": ".py",
   "mimetype": "text/x-python",
   "name": "python",
   "nbconvert_exporter": "python",
   "pygments_lexer": "ipython3",
   "version": "3.12.2"
  }
 },
 "nbformat": 4,
 "nbformat_minor": 2
}
